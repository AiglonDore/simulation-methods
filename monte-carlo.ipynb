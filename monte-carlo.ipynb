{
 "cells": [
  {
   "attachments": {},
   "cell_type": "markdown",
   "metadata": {},
   "source": [
    "# Simulation methods: Monte Carlo\n",
    "\n",
    "In this notebook, we present a simple example of a Monte Carlo simulation. We will use the `numpy` package to generate random numbers and the `matplotlib` package to plot the results.\n",
    "We will also use the `seaborn` package to make the plots look nicer and plot confidence intervals."
   ]
  },
  {
   "cell_type": "code",
   "execution_count": null,
   "metadata": {},
   "outputs": [],
   "source": [
    "import numpy as np\n",
    "import matplotlib.pyplot as plt\n",
    "%matplotlib inline"
   ]
  },
  {
   "attachments": {},
   "cell_type": "markdown",
   "metadata": {},
   "source": [
    "## A first example\n",
    "\n",
    "We consider $X$ a random variable on $\\{0;1;-1\\}$ with probabilities:\n",
    "1. $\\mathbb P(X=-1)=\\frac{1}{3}$.\n",
    "2. $\\mathbb P(X=0)=\\frac{1}{6}$.\n",
    "3. $\\mathbb P(X=1)=\\frac{1}{2}$.\n",
    "\n",
    "We also consider $Y$ another random variable such that $\\mathbb P(Y=0)=\\frac45$."
   ]
  },
  {
   "attachments": {},
   "cell_type": "markdown",
   "metadata": {},
   "source": [
    "### Equaling the expectations\n",
    "We first want to have $\\mathbb E[X]=\\mathbb E[Y]$.\n",
    "We are going to compute $\\mathbb P(Y=-1)$ and $\\mathbb P(Y=1)$ such that we have this equality.\n",
    "$$\\mathbb E[X]=\\mathbb E[Y]\\iff \\sum_{x\\in\\{-1;0;1\\}}x\\mathbb P(X=x)=\\sum_{y\\in\\{-1;0;1\\}}y\\mathbb P(Y=y)\\iff -\\frac{1}{3}+\\frac{1}{2}=\\mathbb P(Y=1)-\\mathbb P(Y=-1)$$\n",
    "Then, we have: $$\\mathbb P(Y=1)-\\mathbb P(Y=-1)=\\frac{1}{6}$$ and $$\\mathbb P(Y=1)+\\mathbb P(Y=-1)=\\frac15$$\n",
    "Therefore, we have:\n",
    "$$\\mathbb P(Y=1)=\\frac{11}{60}\\qquad \\text{and}\\qquad \\mathbb P(Y=-1)=\\frac{1}{60}$$"
   ]
  },
  {
   "attachments": {},
   "cell_type": "markdown",
   "metadata": {},
   "source": [
    "### Computing and comparing variances\n",
    "\n",
    "We now want to compute the variance of $X$ and $Y$ and compare them.\n",
    "To do so, we are going to use the following formula:\n",
    "$$\\mathbb V[X]=\\mathbb E[X^2]-\\mathbb E[X]^2$$\n",
    "We have:\n",
    "$$\\mathbb E[X^2]=\\frac{1}{3}+\\frac{1}{2}=\\frac{5}{6}$$\n",
    "$$\\mathbb E[X]=\\frac12-\\frac13=\\frac{1}{6}$$\n",
    "We need the same for $Y$:\n",
    "$$\\mathbb E[Y^2]=\\frac{1}{60}+\\frac{11}{60}=\\frac{1}{5}$$\n",
    "$$\\mathbb E[Y]=-\\frac{1}{60}+\\frac{11}{60}=\\frac{1}{6}$$\n",
    "We can now compute the variances:\n",
    "$$\\mathbb V[X]=\\frac{5}{6}-\\left(-\\frac{1}{6}\\right)^2=\\frac{29}{36}$$\n",
    "$$\\mathbb V[Y]=\\frac{1}{5}-\\left(-\\frac{10}{60}\\right)^2=\\frac{31}{180}$$"
   ]
  },
  {
   "attachments": {},
   "cell_type": "markdown",
   "metadata": {},
   "source": [
    "### Experimental comparison\n",
    "We now wish to compare the theoretical and experimental expectancies and variances."
   ]
  },
  {
   "cell_type": "code",
   "execution_count": null,
   "metadata": {},
   "outputs": [],
   "source": [
    "def sampleX(n):\n",
    "    A=np.zeros(n)\n",
    "    for i in range(n):\n",
    "        u = np.random.random()\n",
    "        if u <= 1/3:\n",
    "            A[i] = -1\n",
    "        elif u <= 1/2:\n",
    "            A[i] = 0\n",
    "        else:\n",
    "            A[i] = 1\n",
    "    return A\n",
    "\n",
    "def sampleY(n):\n",
    "    A=np.zeros(n)\n",
    "    for i in range(n):\n",
    "        u = np.random.random()\n",
    "        if u <= 1/60:\n",
    "            A[i] = -1\n",
    "        elif u <= 1/60 + 4/5:\n",
    "            A[i] = 0\n",
    "        else:\n",
    "            A[i] = 1\n",
    "    return A"
   ]
  },
  {
   "attachments": {},
   "cell_type": "markdown",
   "metadata": {},
   "source": [
    "Using the previous functions, we can compute the mean of $X$ and $Y$ and compare them."
   ]
  },
  {
   "cell_type": "code",
   "execution_count": null,
   "metadata": {},
   "outputs": [],
   "source": [
    "N=1000\n",
    "X=[np.mean(sampleX(i)) for i in range(1,N)]\n",
    "Y=[np.mean(sampleY(i)) for i in range(1,N)]\n",
    "plt.figure(figsize=(10,7))\n",
    "plt.scatter(range(1,N),X,label='X')\n",
    "plt.scatter(range(1,N),Y,label='Y')\n",
    "plt.plot(range(1,N),[1/6 for _ in range(1,N)],label='E', color='red')\n",
    "plt.legend()\n",
    "plt.show()"
   ]
  },
  {
   "attachments": {},
   "cell_type": "markdown",
   "metadata": {},
   "source": [
    "We therefore notice that both mean are quite equal, when excluding the first value.\n",
    "\n",
    "Now, we are going to compare the variances."
   ]
  },
  {
   "cell_type": "code",
   "execution_count": null,
   "metadata": {},
   "outputs": [],
   "source": [
    "plt.figure(figsize=(10,7))\n",
    "plt.scatter(range(1,N),[np.std(sampleX(i)) ** 2 for i in range(1,N)],label='X')\n",
    "plt.plot(range(1,N),[29/36 for _ in range(1,N)],label='V[X]', color='red')\n",
    "plt.scatter(range(1,N),[np.std(sampleY(i)) ** 2 for i in range(1,1000)],label='Y')\n",
    "plt.plot(range(1,N),[31/180 for _ in range(1,N)],label='V[Y]', color='green')\n",
    "plt.legend()\n",
    "plt.show()"
   ]
  },
  {
   "attachments": {},
   "cell_type": "markdown",
   "metadata": {},
   "source": [
    "These two have the same expected value, but the variance of $X$ is much higher than the variance of $Y$."
   ]
  },
  {
   "attachments": {},
   "cell_type": "markdown",
   "metadata": {},
   "source": [
    "### Confidence intervals\n",
    "Now, we are going to compute the confidence intervals, and compare them.\n",
    "We will take a threshold of 0.05."
   ]
  },
  {
   "cell_type": "code",
   "execution_count": null,
   "metadata": {},
   "outputs": [],
   "source": [
    "plt.figure(figsize=(10,7))\n",
    "plt.scatter(range(1,N),X,label='X', color='yellow')\n",
    "confX=np.array([1.96 * np.std(sampleX(i)) / np.sqrt(i) for i in range(1,N)])\n",
    "plt.title(\"Confidence interval for X\")\n",
    "plt.fill_between(range(1,N), X-confX, X+confX, color='b', alpha=.3,label='0.95 confidence interval')\n",
    "plt.plot(range(1,N),[1/6 for _ in range(1,N)],label='E[X]', color='red')\n",
    "plt.legend()\n",
    "plt.show()\n",
    "\n",
    "plt.figure(figsize=(10,7))\n",
    "plt.title(\"Confidence interval for Y\")\n",
    "plt.scatter(range(1,N),Y,label='Y', color='yellow')\n",
    "confY=np.array([1.96 * np.std(sampleY(i)) / np.sqrt(i) for i in range(1,N)])\n",
    "plt.fill_between(range(1,N), Y-confY, X+confY, color='b', alpha=.3,label='0.95 confidence interval')\n",
    "plt.plot(range(1,N),[1/6 for _ in range(1,N)],label='E[Y]', color='red')\n",
    "plt.legend()\n",
    "plt.show()"
   ]
  },
  {
   "attachments": {},
   "cell_type": "markdown",
   "metadata": {},
   "source": [
    "We notice that the confidence intervals are going smaller when $n$ increases.\n",
    "This can be used to determine any estimation error."
   ]
  },
  {
   "attachments": {},
   "cell_type": "markdown",
   "metadata": {},
   "source": [
    "### Estimation error\n",
    "\n",
    "Using Python, we are going to numerically compute the estimation error and find the value of $n$ such that the estimation error is less than $0.01$.\n",
    "Mathematically, this error is defined as, with a confidence threshold of $95\\,\\%$:\n",
    "$$\\sigma_{\\bar x}=1.96\\frac{\\sigma_x}{\\sqrt{n}}$$\n",
    "Therefore, we are going to generate samples of size $n\\geq 100$ and this value until it is less than $0.01$."
   ]
  },
  {
   "cell_type": "code",
   "execution_count": null,
   "metadata": {},
   "outputs": [],
   "source": [
    "n = 100 #Lower bound for N0\n",
    "X = sampleX(n)\n",
    "\n",
    "while 1.96 * np.std(X) / np.sqrt(len(X)) > 0.01:\n",
    "    n += 1\n",
    "    X = sampleX(n)\n",
    "print(\"N0 for X is\", n)\n",
    "\n",
    "n = 100 #Lower bound for N0\n",
    "Y = sampleX(n)\n",
    "\n",
    "while 1.96 * np.std(Y) / np.sqrt(len(Y)) > 0.01:\n",
    "    n += 1\n",
    "    Y = sampleX(n)\n",
    "print(\"N0 for Y is\", n)"
   ]
  },
  {
   "attachments": {},
   "cell_type": "markdown",
   "metadata": {},
   "source": [
    "Now, we seek to compute the estimation error with a threshold of $0.001$.\n",
    "To do so, we will first compute the theoretical estimation error then begin with a size that will be close to this value.\n",
    "If we don't do that, as the convergence is in $\\mathrm O(n^{-1/2})$, we will have to wait a long time to get a good estimation.\n",
    "\n",
    "We want to have a threshold of $0.001$ so $\\sigma_{\\bar x}=\\frac{\\sigma_x}{\\sqrt{n}}\\leq 0.001$ and $\\sigma_{\\bar y}=\\frac{\\sigma_x}{\\sqrt{n}}\\leq 0.001$, with the same confidence threshold.\n",
    "We already know that:\n",
    "$$\\mathbb V[X]=\\frac{29}{36}\\qquad \\text{and}\\qquad \\mathbb V[Y]=\\frac{31}{180}$$\n",
    "so we have\n",
    "$$\\sigma_x=\\sqrt{\\frac{29}{36}}\\approx 0.89\\qquad \\text{and}\\qquad \\sigma_y=\\sqrt{\\frac{31}{180}}\\approx 0.41$$\n",
    "We can now find the value of $n$ such that $\\sigma_{\\bar x}\\leq 0.001$ and $\\sigma_{\\bar y}\\leq 0.001$, which is:\n",
    "$$\\boxed{n_x\\geq \\frac{1.96^2\\sigma_x^2}{0.001^2}=\\frac{1.96^2\\cdot0.89^2}{0.001^2}\\approx 3\\times10^6}$$\n",
    "and\n",
    "$$\\boxed{n_y\\geq \\frac{1.96^2\\sigma_y^2}{0.001^2}=\\frac{1.96^2\\cdot0.41^2}{0.001^2}\\approx 6.46\\times10^5}$$\n",
    "If we do the same computation with a threshold of $0.01$, we get:\n",
    "$$\\boxed{n_x\\geq \\frac{1.96^2\\sigma_x^2}{0.01^2}=\\frac{1.96^2\\cdot0.89^2}{0.01^2}\\approx 3\\times10^4}$$\n",
    "and\n",
    "$$\\boxed{n_y\\geq \\frac{1.96^2\\sigma_y^2}{0.01^2}=\\frac{1.96^2\\cdot0.41^2}{0.01^2}\\approx 6.46\\times10^3}$$\n",
    "This fits with our previous results.\n",
    "Now, let's see for a threshold of $0.001$."
   ]
  },
  {
   "cell_type": "code",
   "execution_count": null,
   "metadata": {},
   "outputs": [],
   "source": [
    "n = 3 * 10 ** 6 #Lower bound for N0\n",
    "X = sampleX(n)\n",
    "\n",
    "while 1.96 * np.std(X) / np.sqrt(len(X)) > 0.001:\n",
    "    n += 1\n",
    "    X = sampleX(n)\n",
    "print(\"N0 for X is\", n)\n",
    "\n",
    "n = 5 * 10 **5 #Lower bound for N0\n",
    "Y = sampleX(n)\n",
    "\n",
    "while 1.96 * np.std(Y) / np.sqrt(len(Y)) > 0.001:\n",
    "    n += 1\n",
    "    Y = sampleX(n)\n",
    "print(\"N0 for Y is\", n)"
   ]
  },
  {
   "attachments": {},
   "cell_type": "markdown",
   "metadata": {},
   "source": [
    "## Normal law and Monte-Carlo simulation"
   ]
  }
 ],
 "metadata": {
  "kernelspec": {
   "display_name": "Python 3",
   "language": "python",
   "name": "python3"
  },
  "language_info": {
   "codemirror_mode": {
    "name": "ipython",
    "version": 3
   },
   "file_extension": ".py",
   "mimetype": "text/x-python",
   "name": "python",
   "nbconvert_exporter": "python",
   "pygments_lexer": "ipython3",
   "version": "3.11.2"
  },
  "orig_nbformat": 4,
  "vscode": {
   "interpreter": {
    "hash": "cf7aa21a18c80f58f9662a4804a88a5cf2e1165e5a6d14318fc9f60dfc7e3693"
   }
  }
 },
 "nbformat": 4,
 "nbformat_minor": 2
}
