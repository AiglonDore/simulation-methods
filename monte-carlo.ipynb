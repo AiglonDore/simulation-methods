{
 "cells": [
  {
   "attachments": {},
   "cell_type": "markdown",
   "metadata": {},
   "source": [
    "# Simulation methods: Monte Carlo\n",
    "\n",
    "In this notebook, we present a simple example of a Monte Carlo simulation. We will use the `numpy` package to generate random numbers and the `matplotlib` package to plot the results."
   ]
  },
  {
   "cell_type": "code",
   "execution_count": null,
   "metadata": {},
   "outputs": [],
   "source": [
    "import numpy as np\n",
    "import matplotlib.pyplot as plt"
   ]
  },
  {
   "attachments": {},
   "cell_type": "markdown",
   "metadata": {},
   "source": [
    "## A first example\n",
    "\n",
    "We consider $X$ a random variable on $\\{0;1;-1\\}$ with probabilities:\n",
    "1. $\\mathbb P(X=-1)=\\frac{1}{3}$.\n",
    "2. $\\mathbb P(X=0)=\\frac{1}{6}$.\n",
    "3. $\\mathbb P(X=1)=\\frac{1}{2}$.\n",
    "\n",
    "We also consider $Y$ another random variable such that $\\mathbb P(Y=0)=\\frac45$."
   ]
  },
  {
   "attachments": {},
   "cell_type": "markdown",
   "metadata": {},
   "source": [
    "### Equaling the expectations\n",
    "We first want to have $\\mathbb E[X]=\\mathbb E[Y]$.\n",
    "We are going to compute $\\mathbb P(Y=-1)$ and $\\mathbb P(Y=1)$ such that we have this equality.\n",
    "$$\\mathbb E[X]=\\mathbb E[Y]\\iff \\sum_{x\\in\\{-1;0;1\\}}x\\mathbb P(X=x)=\\sum_{y\\in\\{-1;0;1\\}}y\\mathbb P(Y=y)\\iff \\frac{1}{3}-\\frac{1}{2}=\\mathbb P(Y=1)-\\mathbb P(Y=-1)$$\n",
    "Then, we have: $$\\mathbb P(Y=1)-\\mathbb P(Y=-1)=-\\frac{1}{6}$$ and $$\\mathbb P(Y=1)+\\mathbb P(Y=-1)=\\frac15$$\n",
    "Therefore, we have:\n",
    "$$\\mathbb P(Y=1)=\\frac1{60}\\qquad \\text{and}\\qquad \\mathbb P(Y=-1)=\\frac{11}{60}$$"
   ]
  },
  {
   "attachments": {},
   "cell_type": "markdown",
   "metadata": {},
   "source": [
    "## Computing and comparing variances\n",
    "\n",
    "We now want to compute the variance of $X$ and $Y$ and compare them.\n"
   ]
  }
 ],
 "metadata": {
  "language_info": {
   "name": "python"
  },
  "orig_nbformat": 4
 },
 "nbformat": 4,
 "nbformat_minor": 2
}
