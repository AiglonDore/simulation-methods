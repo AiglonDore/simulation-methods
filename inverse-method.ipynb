{
 "cells": [
  {
   "attachments": {},
   "cell_type": "markdown",
   "metadata": {},
   "source": [
    "# Simulation methods: basic laws and inverse method\n",
    "\n",
    "We here implement functions that generate samples following a specific law, from the random number generator."
   ]
  },
  {
   "cell_type": "code",
   "execution_count": null,
   "metadata": {},
   "outputs": [],
   "source": [
    "import numpy as np\n",
    "import matplotlib.pyplot as plt\n",
    "from math import factorial\n",
    "%matplotlib inline"
   ]
  },
  {
   "attachments": {},
   "cell_type": "markdown",
   "metadata": {},
   "source": [
    "## Bernoulli simulation\n",
    "\n",
    "We here want to simulate a sample that follow the Bernoulli distribution, using the inverse transform method, then show that the central limit theorem holds with this distrribution."
   ]
  },
  {
   "cell_type": "code",
   "execution_count": null,
   "metadata": {},
   "outputs": [],
   "source": [
    "def bernoulli(n, p=0.3):\n",
    "    return np.array([int(np.random.random() < p) for _ in range(n)])\n",
    "\n",
    "gaussian = lambda x : 1 / np.sqrt(2 * np.pi) * np.exp(-x**2 / 2)\n",
    "\n",
    "print(\"Computing the mean of a Bernoulli distribution\")\n",
    "B = [bernoulli(k, 0.3) for k in [100, 1000, 10000]]\n",
    "for l in B:\n",
    "    s = 0\n",
    "    for x in l:\n",
    "        if x == 1:\n",
    "            s += 1\n",
    "    print(f\"List of size {len(l)}: {s/len(l)}\")"
   ]
  },
  {
   "attachments": {},
   "cell_type": "markdown",
   "metadata": {},
   "source": [
    "Now, we are going to verity the central limit theorem with the Bernoulli distribution.\n",
    "The following function is designed to be run with all distributions that have a mean and a variance."
   ]
  },
  {
   "cell_type": "code",
   "execution_count": null,
   "metadata": {},
   "outputs": [],
   "source": [
    "def tcl(N, f, args, mean = 0, sigma = 1):\n",
    "    \"\"\"Makes a sample that follows the law of the central limit.\n",
    "\n",
    "    Args:\n",
    "        N (int): number of samples\n",
    "        f (function): function that makes the sample\n",
    "        args (tuple): arguments to f\n",
    "        mean (int, optional): theoretical mean of the law. Defaults to 0.\n",
    "        sigma (int, optional): theoretical standard deviation of the law. Defaults to 1.\n",
    "\n",
    "    Returns:\n",
    "        numpy.nparray: sample that follows a normal law.\n",
    "    \"\"\"\n",
    "    L = np.zeros(N)\n",
    "    for i in range(N):\n",
    "        echant = f(*args)\n",
    "        mu = np.mean(echant)\n",
    "        L[i] = np.sqrt(len(echant)) * (mu - mean) / sigma\n",
    "    return L"
   ]
  },
  {
   "attachments": {},
   "cell_type": "markdown",
   "metadata": {},
   "source": [
    "Here we apply this function to the Bernoulli law."
   ]
  },
  {
   "cell_type": "code",
   "execution_count": null,
   "metadata": {},
   "outputs": [],
   "source": [
    "n_size = [10, 30, 40]\n",
    "\n",
    "echant10000 = tcl(10000, bernoulli, (100, 0.3), 0.3, 0.3)\n",
    "plt.hist(echant10000, density=True,ec=\"white\")\n",
    "plt.plot(np.linspace(min(echant10000), max(echant10000), 100), gaussian(np.linspace(min(echant10000), max(echant10000), 100)))\n",
    "plt.axis(xmin = min(echant10000), xmax = max(echant10000), ymin = 0)\n",
    "plt.show()"
   ]
  },
  {
   "attachments": {},
   "cell_type": "markdown",
   "metadata": {},
   "source": [
    "We here notice that the output follows a normal law $\\mathcal{N}(0,1)$."
   ]
  },
  {
   "attachments": {},
   "cell_type": "markdown",
   "metadata": {},
   "source": [
    "## Binomial law\n",
    "\n",
    "Now, we are going to do the same with the binomial law. First, we need to define how to build binomial random variables."
   ]
  },
  {
   "cell_type": "code",
   "execution_count": null,
   "metadata": {},
   "outputs": [],
   "source": [
    "def binomial(n,N,p):\n",
    "    \"\"\"Generates a binomail sample of size n\n",
    "\n",
    "    Args:\n",
    "        n (int): Size of the sample\n",
    "        N (int): Number of trials\n",
    "        p (float): Probability of success\n",
    "\n",
    "    Returns:\n",
    "        np.ndarray: sample\n",
    "    \"\"\"\n",
    "    return np.array(sum([bernoulli(n,p) for _ in range(N)]))"
   ]
  },
  {
   "attachments": {},
   "cell_type": "markdown",
   "metadata": {},
   "source": [
    "Here, we compare the disbribution of the binomial law with the empiric one."
   ]
  },
  {
   "cell_type": "code",
   "execution_count": null,
   "metadata": {},
   "outputs": [],
   "source": [
    "echant = np.sum(np.array([bernoulli(30,0.1) for _ in range(10000)]), axis = 1)\n",
    "plt.hist(echant, density = True, ec = 'white')\n",
    "X=[i for i in range(30)]\n",
    "Y=[sum([factorial(30) / (factorial(i)*factorial(30-i)) * (0.1)**i * (0.9)**(30-i)]) for i in range(30)] # Theoretical distribution\n",
    "plt.scatter(X,Y, color = 'red')\n",
    "plt.plot()\n",
    "plt.show()"
   ]
  },
  {
   "attachments": {},
   "cell_type": "markdown",
   "metadata": {},
   "source": [
    "Now, we proceed with verifying the central limit theorem, with a law of parameter $p=0.1$."
   ]
  },
  {
   "cell_type": "code",
   "execution_count": null,
   "metadata": {},
   "outputs": [],
   "source": [
    "echant10000 = tcl(10000, binomial, args = (40, 30, 0.1), mean = 30*0.1, sigma = np.sqrt(30*0.1*0.9))\n",
    "plt.hist(echant10000, density=True,ec=\"white\")\n",
    "plt.plot(np.linspace(min(echant10000), max(echant10000), 100), gaussian(np.linspace(min(echant10000), max(echant10000), 100)))\n",
    "plt.axis(xmin = min(echant10000), xmax = max(echant10000), ymin = 0)\n",
    "plt.show()"
   ]
  },
  {
   "attachments": {},
   "cell_type": "markdown",
   "metadata": {},
   "source": [
    "## Unspecified law\n",
    "\n",
    "We here want to simulate a sample that follow this law:\n",
    "- $\\mathbb P(X=a_1)=0.25$.\n",
    "- $\\mathbb P(X=a_2)=0.125$.\n",
    "- $\\mathbb P(X=a_3)=0.125$.\n",
    "- $\\mathbb P(X=a_4)=0.5$.\n",
    "\n",
    "with $a_1=0.5$, $a_2=1$, $a_3=1.5$ and $a_4=2$."
   ]
  },
  {
   "cell_type": "code",
   "execution_count": null,
   "metadata": {},
   "outputs": [],
   "source": [
    "def density():\n",
    "    k = np.random.random()\n",
    "    if k <= 1/4:\n",
    "        return 0.5\n",
    "    elif 1/4 <= k <= 3/8:\n",
    "        return 1\n",
    "    elif 3/8 <= k <= 1/2:\n",
    "        return 1.5\n",
    "    else:\n",
    "        return 2"
   ]
  },
  {
   "attachments": {},
   "cell_type": "markdown",
   "metadata": {},
   "source": [
    "Using this function, we can now generate a sample of size 1,000 of this law."
   ]
  },
  {
   "cell_type": "code",
   "execution_count": null,
   "metadata": {},
   "outputs": [],
   "source": [
    "echant = np.array([density() for _ in range(10000)])\n",
    "plt.hist(echant, ec = 'white', bins = 4)\n",
    "plt.scatter([0.5, 1, 1.5, 2], [10**4*1/4,10**4*1/8,10**4*1/8,10**4*1/2], color = 'red')\n",
    "plt.show()"
   ]
  },
  {
   "attachments": {},
   "cell_type": "markdown",
   "metadata": {},
   "source": [
    "## Subgroups\n",
    "\n",
    "We now want to use probabilities to split a group of $n$ people on $p$ groups randomly."
   ]
  },
  {
   "cell_type": "code",
   "execution_count": null,
   "metadata": {},
   "outputs": [],
   "source": [
    "def sous_groupes(n,p):\n",
    "    if n % p ==0:\n",
    "        L=[]\n",
    "        U=[_ for _ in range(n)]\n",
    "        for i in range(p):\n",
    "            tmp=[]\n",
    "            while len(tmp) < n/p:\n",
    "                x = int(np.random.random()*len(U))\n",
    "                tmp.append(U[x])\n",
    "                U.pop(x)\n",
    "            L.append(tmp)\n",
    "        return L\n",
    "    else:\n",
    "        L=[]\n",
    "        U=[_ for _ in range(n)]\n",
    "        for i in range(p):\n",
    "            tmp=[]\n",
    "            while len(tmp) < n/p - 1:\n",
    "                x = int(np.random.random()*len(U))\n",
    "                tmp.append(U[x])\n",
    "                U.pop(x)\n",
    "            L.append(tmp)\n",
    "        L[-1].extend(U)\n",
    "        return L\n",
    "    \n",
    "A=sous_groupes(9,3)\n",
    "print(f\"We have 9 people and 3 groups:\\n{A}.\")\n",
    "print(f\"The number of people in each group is {[len(A[i]) for i in range(3)]}.\")\n",
    "B=sous_groupes(101,10)\n",
    "print(f\"We have 101 people and 10 groups:\\n{B}\")\n",
    "print(f\"The number of people in each group is {[len(B[i]) for i in range(10)]}.\")\n"
   ]
  },
  {
   "attachments": {},
   "cell_type": "markdown",
   "metadata": {},
   "source": [
    "## Poisson, Weibull and exponential laws\n",
    "\n",
    "Here are some functions that generate samples following the Poisson, Weibull and exponential laws."
   ]
  },
  {
   "cell_type": "code",
   "execution_count": null,
   "metadata": {},
   "outputs": [],
   "source": [
    "def poisson(lam, n):\n",
    "    L=[]\n",
    "    for i in range(n):\n",
    "        X = 0\n",
    "        c=np.exp(-lam)\n",
    "        u = np.random.random()\n",
    "        fct = [1]\n",
    "        while u >= c:\n",
    "            X += 1\n",
    "            fct.append(fct[-1] * X)\n",
    "            c += np.exp(-lam) * (lam ** X) / fct[-1]\n",
    "        L.append(X)\n",
    "    return L\n",
    "\n",
    "def exponentielle(lam, n):\n",
    "    L=[]\n",
    "    for i in range(n):\n",
    "        u = np.random.random()\n",
    "        L.append(-np.log(1-u)/lam)\n",
    "    return L\n",
    "\n",
    "def weibull(lam, k, n):\n",
    "    L=[]\n",
    "    for i in range(n):\n",
    "        u = np.random.random()\n",
    "        L.append((-(np.log(1-u))**(1/k))/lam)\n",
    "    return L\n",
    "\n",
    "E=exponentielle(1, 100)\n",
    "print(f\"Exponential law: {E}\")\n",
    "plt.hist(E, density=True,ec=\"white\")\n",
    "plt.show()\n",
    "P=poisson(1, 100)\n",
    "print(f\"Poisson law: {P}\")\n",
    "plt.hist(P, density=True,ec=\"white\")\n",
    "plt.show()\n",
    "W=weibull(1, 1, 100)\n",
    "print(f\"Weibull law: {W}\")\n",
    "plt.hist(W, density=True,ec=\"white\")\n",
    "plt.show()"
   ]
  }
 ],
 "metadata": {
  "kernelspec": {
   "display_name": "Python 3",
   "language": "python",
   "name": "python3"
  },
  "language_info": {
   "codemirror_mode": {
    "name": "ipython",
    "version": 3
   },
   "file_extension": ".py",
   "mimetype": "text/x-python",
   "name": "python",
   "nbconvert_exporter": "python",
   "pygments_lexer": "ipython3",
   "version": "3.9.7"
  },
  "orig_nbformat": 4,
  "vscode": {
   "interpreter": {
    "hash": "e13816212fbf99b256aa697e4560deaee36e03de1f48b7ff11501fca2851863b"
   }
  }
 },
 "nbformat": 4,
 "nbformat_minor": 2
}
