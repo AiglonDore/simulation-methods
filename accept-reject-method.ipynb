{
 "cells": [
  {
   "attachments": {},
   "cell_type": "markdown",
   "metadata": {},
   "source": [
    "# Simulation methods: laws using accept-reject method\n",
    "\n",
    "We here implement functions that generate samples following a specific law, from the random number generator.\n",
    "This implementation will use the accept-reject method."
   ]
  },
  {
   "cell_type": "code",
   "execution_count": null,
   "metadata": {},
   "outputs": [],
   "source": [
    "import numpy as np\n",
    "import matplotlib.pyplot as plt\n",
    "from math import factorial\n",
    "%matplotlib inline"
   ]
  },
  {
   "attachments": {},
   "cell_type": "markdown",
   "metadata": {},
   "source": [
    "## Absolute value normal law\n",
    "\n",
    "We first implement the absolute value normal law, which is defined as follows:\n",
    "$$f(x)=\\frac{2}{\\sqrt{2\\pi}}\\exp\\left(-\\frac{x^2}{2}\\right)\\ \\text{when}\\ x>0\\ \\text{else}\\ 0$$\n",
    "As we don't want to generate negative values, we will use the accept-reject method.\n",
    "We notice that:\n",
    "$$\\forall x>0,\\qquad f(x)\\leq\\sqrt{\\frac{2\\mathrm e}\\pi}\\mathrm{e}^{-x}$$\n",
    "Therefore, we set $c=\\sqrt{\\frac{2\\mathrm e}\\pi}$ and we generate $Y$ following an exponential law with $\\lambda=1$."
   ]
  },
  {
   "cell_type": "code",
   "execution_count": null,
   "metadata": {},
   "outputs": [],
   "source": [
    "def exponentielle(lam, n):\n",
    "    L=[]\n",
    "    for i in range(n):\n",
    "        u = np.random.random()\n",
    "        L.append(-np.log(1-u)/lam)\n",
    "    return L\n",
    "\n",
    "def abs_norm(n):\n",
    "    c = np.sqrt(2 * np.exp(1) / np.pi)\n",
    "    L=[]\n",
    "    while len(L) < n:\n",
    "        u = np.random.random()\n",
    "        g = exponentielle(1, 1)[0]\n",
    "        f= 2 / np.sqrt(2 * np.pi) * np.exp(-g**2/2)\n",
    "        h = f / (c * g)\n",
    "        if u <= h:\n",
    "            L.append(g)\n",
    "    return L\n",
    "\n",
    "X=abs_norm(10000)\n",
    "plt.hist(X, density= True, ec = 'white')\n",
    "f = lambda x: 2 / np.sqrt(2 * np.pi) * np.exp(-x**2/2)\n",
    "plt.plot(np.linspace(0, 3, 100), f(np.linspace(0, 3, 100)))\n",
    "plt.show()"
   ]
  },
  {
   "attachments": {},
   "cell_type": "markdown",
   "metadata": {},
   "source": [
    "## Law on $\\mathbb R^2$\n",
    "\n",
    "We now implement a law on $\\mathbb R^2$, more specially around the unit circle.\n",
    "For that, we will use the following algorithm:\n",
    "1. Do `u1 <- 2 * rand - 1` and `u2 <- 2 * rand - 1` while `u1^2 + u2^2 > 1`.\n",
    "2. `U1 <- u1` and `U2 <- u2`.\n",
    "\n",
    "Then we plot the result, and also the unit circle, and a sqare of side 2 centered on the origin."
   ]
  },
  {
   "cell_type": "code",
   "execution_count": null,
   "metadata": {},
   "outputs": [],
   "source": [
    "def va(n = 10000):\n",
    "    X=[]\n",
    "    Y=[]\n",
    "    for i in range(n):\n",
    "        u1 = 2 * np.random.random() - 1\n",
    "        u2 = 2 * np.random.random() - 1\n",
    "        while u1 * u1 + u2 * u2 <= 1:\n",
    "            u1 = 2 * np.random.random() - 1\n",
    "            u2 = 2 * np.random.random() - 1\n",
    "        X.append(u1)\n",
    "        Y.append(u2)\n",
    "    return X, Y\n",
    "\n",
    "sample1, sample2 = va(1000)\n",
    "u=0\n",
    "v=0\n",
    "a=1\n",
    "b=1\n",
    "t = np.linspace(0, 2*np.pi, 100)\n",
    "plt.scatter(sample1, sample2)\n",
    "plt.plot(u + a * np.cos(t), v + b * np.sin(t), color='red')\n",
    "plt.plot([-1, 1, 1 ,-1, -1], [1, 1, -1, -1, 1], color='green')\n",
    "plt.axis('equal')\n",
    "plt.show()"
   ]
  },
  {
   "attachments": {},
   "cell_type": "markdown",
   "metadata": {},
   "source": [
    "## Law on $\\mathbb R^3$\n",
    "\n",
    "We now consider a law on $\\mathbb R^3$, more specially around the unit ball.\n",
    "We will use a samilar algorithm as the previous one."
   ]
  },
  {
   "cell_type": "code",
   "execution_count": null,
   "metadata": {},
   "outputs": [],
   "source": [
    "def va_boule(n):\n",
    "    L=[]\n",
    "    while len(L) < n:\n",
    "        x = -1 + 2 * np.random.random(3)\n",
    "        if np.linalg.norm(x) <= 1:\n",
    "            L.append(x)\n",
    "    return L\n",
    "\n",
    "sample = va_boule(1000)\n",
    "\n",
    "ax = plt.figure().add_subplot(projection='3d')\n",
    "ax.scatter([x[0] for x in sample], [x[1] for x in sample], [x[2] for x in sample])\n",
    "plt.show()"
   ]
  },
  {
   "attachments": {},
   "cell_type": "markdown",
   "metadata": {},
   "source": [
    "## Gaussian binomial law\n",
    "\n",
    "Using the accept-reject method, we can generate samples following a gaussian binomial law.\n",
    "To do so, we will use the Box-Muller method to generate samples following a gaussian law."
   ]
  },
  {
   "cell_type": "code",
   "execution_count": null,
   "metadata": {},
   "outputs": [],
   "source": [
    "def gaussian2(n):\n",
    "    r = np.array(exponentielle(0.5, n))\n",
    "    u = 2 * np.pi * np.random.random(n)\n",
    "    return np.sqrt(r) * np.cos(u), np.sqrt(r) * np.sin(u)\n",
    "\n",
    "X,Y = gaussian2(10000)\n",
    "plt.scatter(X,Y)\n",
    "plt.show()\n",
    "    \n",
    "gauss1 = gaussian2(10000)[0]"
   ]
  }
 ],
 "metadata": {
  "kernelspec": {
   "display_name": "Python 3",
   "language": "python",
   "name": "python3"
  },
  "language_info": {
   "codemirror_mode": {
    "name": "ipython",
    "version": 3
   },
   "file_extension": ".py",
   "mimetype": "text/x-python",
   "name": "python",
   "nbconvert_exporter": "python",
   "pygments_lexer": "ipython3",
   "version": "3.9.7"
  },
  "orig_nbformat": 4,
  "vscode": {
   "interpreter": {
    "hash": "e13816212fbf99b256aa697e4560deaee36e03de1f48b7ff11501fca2851863b"
   }
  }
 },
 "nbformat": 4,
 "nbformat_minor": 2
}
