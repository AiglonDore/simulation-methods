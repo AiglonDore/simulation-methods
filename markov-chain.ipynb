{
 "cells": [
  {
   "attachments": {},
   "cell_type": "markdown",
   "metadata": {},
   "source": [
    "# Markov chains\n",
    "We want to simulate and visualize a Markov chain.\n",
    "\n",
    "To make this simulation, we will use the following Python libraries:\n",
    "- `numpy` for the random number generation.\n",
    "- `matplotlib` for the visualization."
   ]
  },
  {
   "cell_type": "code",
   "execution_count": null,
   "metadata": {},
   "outputs": [],
   "source": [
    "import numpy as np\n",
    "import matplotlib.pyplot as plt"
   ]
  },
  {
   "attachments": {},
   "cell_type": "markdown",
   "metadata": {},
   "source": [
    "## Studying a classical Markov chain\n",
    "### Plotting the chain\n",
    "We will study a classical Markov chain $(X_n)$, which is a discrete-time Markov chain with a finite state space. The state space is $\\{1, 2, 3, 4, 5\\}$, and the transition matrix is:\n",
    "$$P=\\begin{pmatrix}\n",
    "0.1&0.1&0.5&0.2&0.1\\\\\n",
    "0.3&0.1&0.1&0.4&0.1\\\\\n",
    "0.2&0.1&0.1&0.5&0.1\\\\\n",
    "0.1&0.1&0.1&0.6&0.1\\\\\n",
    "0.1&0.2&0.1&0.4&0.2\n",
    "\\end{pmatrix}$$\n",
    "This chain will begin with $X_0=1$."
   ]
  },
  {
   "cell_type": "code",
   "execution_count": null,
   "metadata": {},
   "outputs": [],
   "source": [
    "P=np.array([\n",
    "    [0.1,0.1,0.5,0.2,0.1],\n",
    "    [0.3,0.1,0.1,0.4,0.1],\n",
    "    [0.2,0.1,0.1,0.5,0.1],\n",
    "    [0.1,0.1,0.1,0.6,0.1],\n",
    "    [0.1,0.2,0.1,0.4,0.2]\n",
    "])\n",
    "\n",
    "X=[1]\n",
    "Y = [2]\n",
    "for _ in range(99):\n",
    "    X.append(np.random.choice(5,p=P[X[-1] - 1]) + 1)\n",
    "    Y.append(np.random.choice(5,p=P[Y[-1] - 1]) + 1)\n",
    "\n",
    "plt.figure(figsize=(10,7))\n",
    "plt.plot(range(100),X,label=\"X0 = 1\")\n",
    "plt.plot(range(100),Y, label=\"X0 = 2\")\n",
    "plt.legend()\n",
    "plt.show()\n",
    "\n",
    "print(\"Count when staring at 1\")\n",
    "for i in range(1, 6):\n",
    "    print(f\"Number of times in state {i}: {X.count(i)}\")\n",
    "print(\"Count when staring at 2\")\n",
    "for i in range(1, 6):\n",
    "    print(f\"Number of times in state {i}: {Y.count(i)}\")"
   ]
  },
  {
   "attachments": {},
   "cell_type": "markdown",
   "metadata": {},
   "source": [
    "We notice that the chain is mainly on state 4."
   ]
  },
  {
   "attachments": {},
   "cell_type": "markdown",
   "metadata": {},
   "source": [
    "### Unique non-variant probability\n",
    "Let $\\pi$ be the unique non-variant probability of the chain. We can compute it by solving the following linear system:\n",
    "$$\\pi P=\\pi$$\n",
    "To do sol, we will use the `numpy` library."
   ]
  },
  {
   "cell_type": "code",
   "execution_count": null,
   "metadata": {},
   "outputs": [],
   "source": [
    "A = np.eye(5) - P\n",
    "A = np.append(A, np.ones((5,1)), axis=1)\n",
    "b=np.array([0,0,0,0,1])"
   ]
  }
 ],
 "metadata": {
  "kernelspec": {
   "display_name": "Python 3",
   "language": "python",
   "name": "python3"
  },
  "language_info": {
   "codemirror_mode": {
    "name": "ipython",
    "version": 3
   },
   "file_extension": ".py",
   "mimetype": "text/x-python",
   "name": "python",
   "nbconvert_exporter": "python",
   "pygments_lexer": "ipython3",
   "version": "3.11.2"
  },
  "orig_nbformat": 4
 },
 "nbformat": 4,
 "nbformat_minor": 2
}
